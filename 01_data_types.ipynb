{
 "cells": [
  {
   "cell_type": "markdown",
   "metadata": {
    "collapsed": true,
    "pycharm": {
     "name": "#%% md\n"
    }
   },
   "source": [
    "## Data types"
   ]
  },
  {
   "cell_type": "code",
   "execution_count": 1,
   "metadata": {
    "pycharm": {
     "name": "#%%\n"
    }
   },
   "outputs": [
    {
     "name": "stdout",
     "output_type": "stream",
     "text": [
      "True is bool\n",
      "3 is int\n",
      "3.1 is float\n",
      "lol is str\n",
      "[1, 2, 3] is list\n",
      "(1, 2, 3) is tuple\n",
      "{'a': 1, 'b': 2} is dict\n",
      "{'a', 'c', 'b'} is set\n",
      "frozenset({'a', 'c', 'b'}) is frozenset\n",
      "None is NoneType\n",
      "<object object at 0x103520090> is object\n",
      "<__main__.MyClass object at 0x104621e20> is MyClass\n"
     ]
    }
   ],
   "source": [
    "def print_type(x):\n",
    "    print(x, 'is', type(x).__name__)\n",
    "\n",
    "class MyClass:\n",
    "    pass\n",
    "\n",
    "print_type(True)\n",
    "print_type(3)\n",
    "print_type(3.1)\n",
    "print_type('lol')\n",
    "print_type([1, 2, 3])\n",
    "print_type((1, 2, 3))\n",
    "print_type({'a': 1, 'b': 2})\n",
    "print_type({'a', 'b', 'c'})\n",
    "print_type(frozenset({'a', 'b', 'c'}))\n",
    "print_type(None)\n",
    "print_type(object())\n",
    "print_type(MyClass())"
   ]
  },
  {
   "cell_type": "markdown",
   "metadata": {},
   "source": [
    "## Immutable vs Mutable\n",
    "\n",
    "- Immutable - Can't be changed after creation, you must create new object instead.\n",
    "  - bool\n",
    "  - int\n",
    "  - float\n",
    "  - str\n",
    "  - tuple\n",
    "  - frozenset\n",
    "- Mutable - Can be changed.\n",
    "  - list\n",
    "  - set\n",
    "  - dict\n",
    "\n",
    "None, True, False - are singletons, there is only one instance\n",
    "\n",
    "\n",
    "Mutable example:"
   ]
  },
  {
   "cell_type": "code",
   "execution_count": 2,
   "metadata": {
    "pycharm": {
     "name": "#%%\n"
    }
   },
   "outputs": [
    {
     "name": "stdout",
     "output_type": "stream",
     "text": [
      "[0, 2, 3]\n"
     ]
    }
   ],
   "source": [
    "my_list = [1, 2, 3]\n",
    "my_list[0] = 0  # ok\n",
    "print(my_list)"
   ]
  },
  {
   "cell_type": "markdown",
   "metadata": {
    "pycharm": {
     "name": "#%% md\n"
    }
   },
   "source": [
    "Immutable example:"
   ]
  },
  {
   "cell_type": "code",
   "execution_count": 3,
   "metadata": {
    "pycharm": {
     "name": "#%%\n"
    }
   },
   "outputs": [
    {
     "ename": "TypeError",
     "evalue": "'tuple' object does not support item assignment",
     "output_type": "error",
     "traceback": [
      "\u001b[0;31m---------------------------------------------------------------------------\u001b[0m",
      "\u001b[0;31mTypeError\u001b[0m                                 Traceback (most recent call last)",
      "\u001b[0;32m<ipython-input-3-7f54229005c5>\u001b[0m in \u001b[0;36m<module>\u001b[0;34m\u001b[0m\n\u001b[1;32m      1\u001b[0m \u001b[0mmy_tuple\u001b[0m \u001b[0;34m=\u001b[0m \u001b[0;34m(\u001b[0m\u001b[0;36m1\u001b[0m\u001b[0;34m,\u001b[0m \u001b[0;36m2\u001b[0m\u001b[0;34m,\u001b[0m \u001b[0;36m3\u001b[0m\u001b[0;34m)\u001b[0m\u001b[0;34m\u001b[0m\u001b[0;34m\u001b[0m\u001b[0m\n\u001b[0;32m----> 2\u001b[0;31m \u001b[0mmy_tuple\u001b[0m\u001b[0;34m[\u001b[0m\u001b[0;36m0\u001b[0m\u001b[0;34m]\u001b[0m \u001b[0;34m=\u001b[0m \u001b[0;36m0\u001b[0m  \u001b[0;31m# exception will be raised\u001b[0m\u001b[0;34m\u001b[0m\u001b[0;34m\u001b[0m\u001b[0m\n\u001b[0m",
      "\u001b[0;31mTypeError\u001b[0m: 'tuple' object does not support item assignment"
     ]
    }
   ],
   "source": [
    "my_tuple = (1, 2, 3)\n",
    "my_tuple[0] = 0  # exception will be raised"
   ]
  },
  {
   "cell_type": "markdown",
   "metadata": {
    "pycharm": {
     "name": "#%% md\n"
    }
   },
   "source": [
    "To change immutable you must create new object"
   ]
  },
  {
   "cell_type": "code",
   "execution_count": 4,
   "metadata": {
    "pycharm": {
     "name": "#%%\n"
    }
   },
   "outputs": [
    {
     "name": "stdout",
     "output_type": "stream",
     "text": [
      "(0, 2, 3)\n"
     ]
    }
   ],
   "source": [
    "my_tuple = (1, 2, 3)\n",
    "my_tuple = (0,) + my_tuple[1:]  # ok\n",
    "print(my_tuple)\n"
   ]
  },
  {
   "cell_type": "markdown",
   "metadata": {
    "pycharm": {
     "name": "#%% md\n"
    }
   },
   "source": [
    "## Variable vs Object\n",
    "\n",
    "Object is some data that we store in memory.\n",
    "Variable is just a pointer/reference to the objects which stored in the memory.\n",
    "Value of the variable is the object that variable reference to. That's what you'll get when you read it.\n",
    "\n",
    "So when you do `a = 'hello world'`\n",
    "1. Python creates object `'hello world'` of type str in memory\n",
    "2. Creates or re-uses variable `a`\n",
    "3. Assigns id of the created object to variable\n",
    "4. If variable previously had a reference to another object, that object may be destroyed and memory released.\n",
    "\n",
    "Example:"
   ]
  },
  {
   "cell_type": "code",
   "execution_count": 5,
   "metadata": {
    "pycharm": {
     "name": "#%%\n"
    }
   },
   "outputs": [],
   "source": [
    "a = 'Hello'  # 'Hello' object created and assigned to variable a\n",
    "a = a + ' world'  # it will create object ' world'\n",
    "# then it will concatenate two strings and create third: 'Hello world'\n",
    "# then it will save 'Hello world' to variable a and will delete 'Hello' and ' world' from memory."
   ]
  },
  {
   "cell_type": "markdown",
   "metadata": {
    "pycharm": {
     "name": "#%% md\n"
    }
   },
   "source": [
    "### id() function\n",
    "\n",
    "You can use id function to get identity of the object. It shows on which object this variable references."
   ]
  },
  {
   "cell_type": "code",
   "execution_count": 6,
   "metadata": {
    "pycharm": {
     "name": "#%%\n"
    }
   },
   "outputs": [
    {
     "name": "stdout",
     "output_type": "stream",
     "text": [
      "4369059888\n"
     ]
    }
   ],
   "source": [
    "some_var = 'my string object'\n",
    "print(id(some_var))"
   ]
  },
  {
   "cell_type": "markdown",
   "metadata": {
    "pycharm": {
     "name": "#%% md\n"
    }
   },
   "source": [
    "### Several variables and one object\n",
    "\n",
    "Several variables can have reference to the same object in memory. Example"
   ]
  },
  {
   "cell_type": "code",
   "execution_count": 7,
   "metadata": {
    "pycharm": {
     "name": "#%%\n"
    }
   },
   "outputs": [
    {
     "name": "stdout",
     "output_type": "stream",
     "text": [
      "4369067440 4369067440 True\n"
     ]
    }
   ],
   "source": [
    "var1 = 'Hello world'\n",
    "var2 = var1\n",
    "\n",
    "print(id(var1), id(var2), id(var1) == id(var2))"
   ]
  },
  {
   "cell_type": "markdown",
   "metadata": {
    "pycharm": {
     "name": "#%% md\n"
    }
   },
   "source": [
    "It is two variables pointing to the same object.\n",
    "\n",
    "If we change first variable - second will not change, because we create *new object*\n",
    "and set reference to it to the variable. We don't change the initial object!"
   ]
  },
  {
   "cell_type": "code",
   "execution_count": 8,
   "metadata": {
    "pycharm": {
     "name": "#%%\n"
    }
   },
   "outputs": [
    {
     "name": "stdout",
     "output_type": "stream",
     "text": [
      "Hi there\n",
      "Hello world\n",
      "4369067632 4369067504 False\n"
     ]
    }
   ],
   "source": [
    "var1 = 'Hello world'\n",
    "var2 = var1\n",
    "var1 = 'Hi there'  # new object created\n",
    "\n",
    "print(var1)\n",
    "print(var2)\n",
    "\n",
    "print(id(var1), id(var2), id(var1) == id(var2))  # it's a different objects"
   ]
  },
  {
   "cell_type": "markdown",
   "metadata": {
    "pycharm": {
     "name": "#%% md\n"
    }
   },
   "source": [
    "It doesn't matter whether object is mutable or immutable, because we are changing variable, not object."
   ]
  },
  {
   "cell_type": "code",
   "execution_count": 9,
   "metadata": {
    "pycharm": {
     "name": "#%%\n"
    }
   },
   "outputs": [
    {
     "name": "stdout",
     "output_type": "stream",
     "text": [
      "[3, 4, 5]\n",
      "[0, 1, 2]\n",
      "4350736384 4350922816 False\n"
     ]
    }
   ],
   "source": [
    "var1 = [0, 1, 2]\n",
    "var2 = var1\n",
    "var1 = [3, 4, 5]  # new object created\n",
    "\n",
    "print(var1)\n",
    "print(var2)\n",
    "\n",
    "print(id(var1), id(var2), id(var1) == id(var2))  # it's a different objects"
   ]
  },
  {
   "cell_type": "markdown",
   "metadata": {
    "pycharm": {
     "name": "#%% md\n"
    }
   },
   "source": [
    "But in this case we change the object, not the reference to the object.\n",
    "\n",
    "That's why you will see that value of the first variable will change."
   ]
  },
  {
   "cell_type": "code",
   "execution_count": 10,
   "metadata": {
    "pycharm": {
     "name": "#%%\n"
    },
    "scrolled": true
   },
   "outputs": [
    {
     "name": "stdout",
     "output_type": "stream",
     "text": [
      "[0, 2, 3]\n",
      "[0, 2, 3]\n",
      "4350737920 4350737920 True\n"
     ]
    }
   ],
   "source": [
    "var5 = [1, 2, 3]\n",
    "var6 = var5\n",
    "var6[0] = 0\n",
    "\n",
    "print(var5)\n",
    "print(var6)\n",
    "\n",
    "print(id(var5), id(var6), id(var5) == id(var6))  # Same object!"
   ]
  },
  {
   "cell_type": "markdown",
   "metadata": {
    "pycharm": {
     "name": "#%% md\n"
    }
   },
   "source": [
    "### Immutable container objects are not completely immutable\n",
    "\n",
    "Tuple is immutable, but it's container object. It means that it have references to another objects\n",
    "which may change.\n",
    "\n",
    "Example:"
   ]
  },
  {
   "cell_type": "code",
   "execution_count": 11,
   "metadata": {
    "pycharm": {
     "name": "#%%\n"
    }
   },
   "outputs": [
    {
     "name": "stdout",
     "output_type": "stream",
     "text": [
      "([0, 2, 3], 'a', 'b')\n"
     ]
    }
   ],
   "source": [
    "my_tuple2 = ([1, 2, 3], 'a', 'b')\n",
    "my_tuple2[0][0] = 0\n",
    "print(my_tuple2)  # changed!"
   ]
  },
  {
   "cell_type": "markdown",
   "metadata": {
    "pycharm": {
     "name": "#%% md\n"
    }
   },
   "source": [
    "List and tuple contain references, not actual objects. So same rules are applied to them as for variables."
   ]
  },
  {
   "cell_type": "code",
   "execution_count": 12,
   "metadata": {
    "pycharm": {
     "name": "#%%\n"
    }
   },
   "outputs": [
    {
     "name": "stdout",
     "output_type": "stream",
     "text": [
      "4316965392\n",
      "4316965392\n",
      "[0, 1, 2]\n",
      "[0, 1, 2]\n",
      "4316968560\n",
      "4316965392\n"
     ]
    }
   ],
   "source": [
    "var1 = 0\n",
    "my_list1 = [var1, 1, 2]\n",
    "print(id(var1))\n",
    "print(id(my_list1[0]))\n",
    "print(my_list1)\n",
    "\n",
    "var1 = 99\n",
    "print(my_list1)  # didn't change!\n",
    "\n",
    "print(id(var1))\n",
    "print(id(my_list1[0]))"
   ]
  },
  {
   "cell_type": "markdown",
   "metadata": {
    "pycharm": {
     "name": "#%% md\n"
    }
   },
   "source": [
    "my_list1[0] didn't change because it stores reference to the object, not to the variable. Variable can't be referenced.\n",
    "when we did `var1 = 99` we created new object and change variable reference.\n",
    "It doesn't matter whether var1 is mutable or immutable."
   ]
  },
  {
   "cell_type": "markdown",
   "metadata": {
    "pycharm": {
     "name": "#%% md\n"
    }
   },
   "source": [
    "### Copy\n",
    "\n",
    "If we don't want to change value of the initial variable we can copy object"
   ]
  },
  {
   "cell_type": "code",
   "execution_count": 13,
   "metadata": {
    "pycharm": {
     "name": "#%%\n"
    }
   },
   "outputs": [
    {
     "name": "stdout",
     "output_type": "stream",
     "text": [
      "[1, 2, 3]\n",
      "[0, 2, 3]\n",
      "4351009920 4351009344 False\n"
     ]
    }
   ],
   "source": [
    "var7 = [1, 2, 3]\n",
    "var8 = var7.copy()\n",
    "var8[0] = 0\n",
    "\n",
    "print(var7)\n",
    "print(var8)\n",
    "print(id(var7), id(var8), id(var7) == id(var8))  # two different objets"
   ]
  },
  {
   "cell_type": "markdown",
   "metadata": {
    "pycharm": {
     "name": "#%% md\n"
    }
   },
   "source": [
    "Alternatively you can use slice do do the same.\n"
   ]
  },
  {
   "cell_type": "code",
   "execution_count": 14,
   "metadata": {
    "pycharm": {
     "name": "#%%\n"
    }
   },
   "outputs": [
    {
     "name": "stdout",
     "output_type": "stream",
     "text": [
      "[1, 3, 5]\n"
     ]
    }
   ],
   "source": [
    "var9 = [0, 1, 2, 3, 4, 5, 6]\n",
    "for x in var9[:]:\n",
    "    if x % 2 == 0:\n",
    "        var9.remove(x)\n",
    "\n",
    "print(var9)"
   ]
  },
  {
   "cell_type": "markdown",
   "metadata": {
    "pycharm": {
     "name": "#%% md\n"
    }
   },
   "source": [
    "But it's a shallow copy."
   ]
  },
  {
   "cell_type": "code",
   "execution_count": 15,
   "metadata": {
    "pycharm": {
     "name": "#%%\n"
    }
   },
   "outputs": [
    {
     "name": "stdout",
     "output_type": "stream",
     "text": [
      "['mymap1', [99, 1], [2, 3]]\n",
      "['mymap2', [99, 1], [2, 3]]\n",
      "4369148800 4369148416 False\n",
      "var10 [4369099760, 4369148608, 4369148736]\n",
      "var11 [4369100464, 4369148608, 4369148736]\n"
     ]
    }
   ],
   "source": [
    "var10 = [\n",
    "    'mymap1',\n",
    "    [0, 1],\n",
    "    [2, 3],\n",
    "]\n",
    "\n",
    "var11 = var10.copy()\n",
    "var11[0] = 'mymap2'\n",
    "var11[1][0] = 99\n",
    "\n",
    "print(var10)\n",
    "print(var11)\n",
    "\n",
    "print(id(var10), id(var11), id(var10) == id(var11))\n",
    "print('var10', [id(x) for x in var10])\n",
    "print('var11', [id(x) for x in var11])"
   ]
  },
  {
   "cell_type": "code",
   "execution_count": 16,
   "metadata": {
    "pycharm": {
     "name": "#%%\n"
    }
   },
   "outputs": [
    {
     "name": "stdout",
     "output_type": "stream",
     "text": [
      "0\n",
      "['mymap1', [99, 1]]\n",
      "['mymap2', [99, 1]]\n",
      "['mymap1', [99, 1]]\n",
      "['mymap2', [99, 1]]\n"
     ]
    }
   ],
   "source": [
    "a = 0\n",
    "b = 1\n",
    "var10 = [\n",
    "    'mymap1',\n",
    "    [a, b],\n",
    "]\n",
    "\n",
    "var11 = var10.copy()\n",
    "var11[0] = 'mymap2'\n",
    "var11[1][0] = 99\n",
    "\n",
    "print(a)\n",
    "print(var10)\n",
    "print(var11)\n",
    "\n",
    "a = 3\n",
    "\n",
    "print(var10)\n",
    "print(var11)"
   ]
  },
  {
   "cell_type": "markdown",
   "metadata": {
    "pycharm": {
     "name": "#%% md\n"
    }
   },
   "source": [
    "Use copy.deepcopy for recursive copy"
   ]
  },
  {
   "cell_type": "code",
   "execution_count": 17,
   "metadata": {
    "pycharm": {
     "name": "#%%\n"
    }
   },
   "outputs": [
    {
     "name": "stdout",
     "output_type": "stream",
     "text": [
      "['mymap1', [0, 1], [2, 3]]\n",
      "['mymap2', [99, 1], [2, 3]]\n",
      "4369149824 4369148672 False\n",
      "var12 [4369099760, 4369149568, 4369100032]\n",
      "var13 [4369099632, 4369148992, 4369106368]\n"
     ]
    }
   ],
   "source": [
    "import copy\n",
    "var12 = [\n",
    "    'mymap1',\n",
    "    [0, 1],\n",
    "    [2, 3],\n",
    "]\n",
    "\n",
    "var13 = copy.deepcopy(var12)\n",
    "var13[0] = 'mymap2'\n",
    "var13[1][0] = 99\n",
    "\n",
    "print(var12)\n",
    "print(var13)\n",
    "\n",
    "print(id(var12), id(var13), id(var12) == id(var13))\n",
    "print('var12', [id(x) for x in var12])\n",
    "print('var13', [id(x) for x in var13])"
   ]
  },
  {
   "cell_type": "markdown",
   "metadata": {
    "pycharm": {
     "name": "#%% md\n"
    }
   },
   "source": [
    "### Other useful types\n",
    "\n",
    "#### Deque\n",
    "Deque - is a LinkedList https://en.wikipedia.org/wiki/Linked_list .\n",
    "\n",
    "Has fast deleting and insertion operations to the left and right sides of the list, but slow in the middle.\n",
    "\n",
    "Has fancy feature of maxlen."
   ]
  },
  {
   "cell_type": "code",
   "execution_count": 18,
   "metadata": {
    "pycharm": {
     "name": "#%%\n"
    }
   },
   "outputs": [
    {
     "name": "stdout",
     "output_type": "stream",
     "text": [
      "deque([7, 8, 9], maxlen=3)\n"
     ]
    }
   ],
   "source": [
    "from collections import deque\n",
    "\n",
    "my_deque = deque([], maxlen=3)\n",
    "for x in range(10):\n",
    "    my_deque.append(x)\n",
    "print(my_deque)"
   ]
  },
  {
   "cell_type": "markdown",
   "metadata": {
    "pycharm": {
     "name": "#%% md\n"
    }
   },
   "source": [
    "#### namedtuple\n",
    "It's a tuple, where you can use custom names instead of indexes.\n",
    "If you like it you might want to look at `dataclasses.dataclass`"
   ]
  },
  {
   "cell_type": "code",
   "execution_count": 19,
   "metadata": {
    "pycharm": {
     "name": "#%%\n"
    }
   },
   "outputs": [
    {
     "name": "stdout",
     "output_type": "stream",
     "text": [
      "1\n",
      "1\n"
     ]
    }
   ],
   "source": [
    "from collections import namedtuple\n",
    "\n",
    "Point = namedtuple('Point', ['x', 'y'])\n",
    "point1 = Point(1, 2)\n",
    "print(point1.x)\n",
    "print(point1[0])"
   ]
  },
  {
   "cell_type": "markdown",
   "metadata": {
    "pycharm": {
     "name": "#%% md\n"
    }
   },
   "source": [
    "#### Counter\n",
    "\n",
    "It counts."
   ]
  },
  {
   "cell_type": "code",
   "execution_count": 20,
   "metadata": {
    "pycharm": {
     "name": "#%%\n"
    }
   },
   "outputs": [
    {
     "name": "stdout",
     "output_type": "stream",
     "text": [
      "Counter({'a': 4, 'b': 2, 'c': 1})\n",
      "4\n"
     ]
    }
   ],
   "source": [
    "from collections import Counter\n",
    "\n",
    "counter = Counter(['a', 'b', 'a', 'a', 'c', 'a', 'b'])\n",
    "print(counter)\n",
    "print(counter['a'])\n"
   ]
  }
 ],
 "metadata": {
  "kernelspec": {
   "display_name": "Python 3",
   "language": "python",
   "name": "python3"
  },
  "language_info": {
   "codemirror_mode": {
    "name": "ipython",
    "version": 3
   },
   "file_extension": ".py",
   "mimetype": "text/x-python",
   "name": "python",
   "nbconvert_exporter": "python",
   "pygments_lexer": "ipython3",
   "version": "3.8.5"
  }
 },
 "nbformat": 4,
 "nbformat_minor": 1
}
